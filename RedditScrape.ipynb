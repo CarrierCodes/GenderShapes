{
 "cells": [
  {
   "cell_type": "code",
   "execution_count": 2,
   "metadata": {},
   "outputs": [],
   "source": [
    "import praw\n",
    "from psaw import PushshiftAPI\n",
    "import datetime as dt\n",
    "import pandas as pd\n",
    "\n",
    "api = PushshiftAPI()"
   ]
  },
  {
   "cell_type": "code",
   "execution_count": 3,
   "metadata": {},
   "outputs": [],
   "source": [
    "\n",
    "start_epoch=int(dt.datetime(2021, 2, 18).timestamp())\n",
    "end_epoch = int(dt.datetime(2021, 2, 21).timestamp())\n",
    "subreddit = 'trans'\n",
    "results = list(api.search_submissions(after=start_epoch,\n",
    "                            subreddit=subreddit,\n",
    "                            filter=['id', 'title', 'subreddit', 'num_comments', 'score'],\n",
    "                            limit=10))"
   ]
  },
  {
   "cell_type": "code",
   "execution_count": 4,
   "metadata": {},
   "outputs": [],
   "source": [
    "\n",
    "\n",
    "title_results = pd.DataFrame([thing.title for thing in results])\n",
    "\n",
    "submission_results_df = pd.DataFrame(title_results)\n",
    "fileName = \"data/\" + subreddit + str(start_epoch) + \".csv\"\n",
    "submission_results_df.to_csv(fileName.format(start_epoch, end_epoch))"
   ]
  },
  {
   "cell_type": "code",
   "execution_count": null,
   "metadata": {},
   "outputs": [],
   "source": []
  }
 ],
 "metadata": {
  "kernelspec": {
   "name": "python3",
   "display_name": "Python 3",
   "language": "python"
  }
 },
 "nbformat": 4,
 "nbformat_minor": 4
}