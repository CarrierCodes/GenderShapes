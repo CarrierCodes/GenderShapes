{
 "cells": [
  {
   "cell_type": "code",
   "execution_count": 14,
   "metadata": {},
   "outputs": [
    {
     "output_type": "stream",
     "name": "stdout",
     "text": [
      "hello world1\n"
     ]
    }
   ],
   "source": [
    "msg = \"hello world1\"\n",
    "print(msg)\n",
    "\n",
    "import praw\n",
    "from psaw import PushshiftAPI\n",
    "\n",
    "api = PushshiftAPI()"
   ]
  },
  {
   "cell_type": "code",
   "execution_count": 15,
   "metadata": {},
   "outputs": [
    {
     "output_type": "stream",
     "name": "stdout",
     "text": [
      "<generator object PushshiftAPIMinimal._search at 0x7f968bce8970>\n"
     ]
    }
   ],
   "source": [
    "# The `search_comments` and `search_submissions` methods return generator objects\n",
    "gen = api.search_submissions(limit=100)\n",
    "results = list(gen)\n",
    "print(gen)"
   ]
  },
  {
   "cell_type": "code",
   "execution_count": 20,
   "metadata": {},
   "outputs": [
    {
     "output_type": "execute_result",
     "data": {
      "text/plain": [
       "[submission(created_utc=1614200573, id='lrnftw', num_comments=8, score=3, subreddit='NonBinary', title='How do I deal with chest dysphoria at night?', created=1614229373.0, d_={'created_utc': 1614200573, 'id': 'lrnftw', 'num_comments': 8, 'score': 3, 'subreddit': 'NonBinary', 'title': 'How do I deal with chest dysphoria at night?', 'created': 1614229373.0}),\n",
       " submission(created_utc=1614200098, id='lrn989', num_comments=2, score=3, subreddit='NonBinary', title='How do I know if a binder is right for me?', created=1614228898.0, d_={'created_utc': 1614200098, 'id': 'lrn989', 'num_comments': 2, 'score': 3, 'subreddit': 'NonBinary', 'title': 'How do I know if a binder is right for me?', 'created': 1614228898.0}),\n",
       " submission(created_utc=1614199831, id='lrn5bw', num_comments=0, score=1, subreddit='NonBinary', title='Big hair, big euphoria.', created=1614228631.0, d_={'created_utc': 1614199831, 'id': 'lrn5bw', 'num_comments': 0, 'score': 1, 'subreddit': 'NonBinary', 'title': 'Big hair, big euphoria.', 'created': 1614228631.0}),\n",
       " submission(created_utc=1614199265, id='lrmx3s', num_comments=2, score=75, subreddit='NonBinary', title='I gave myself a haircut &amp; did my makeup 🦔', created=1614228065.0, d_={'created_utc': 1614199265, 'id': 'lrmx3s', 'num_comments': 2, 'score': 75, 'subreddit': 'NonBinary', 'title': 'I gave myself a haircut &amp; did my makeup 🦔', 'created': 1614228065.0}),\n",
       " submission(created_utc=1614199006, id='lrmtcq', num_comments=4, score=9, subreddit='NonBinary', title='I’m having trouble identifying myself and I need some advice/articles/literature on the topic.', created=1614227806.0, d_={'created_utc': 1614199006, 'id': 'lrmtcq', 'num_comments': 4, 'score': 9, 'subreddit': 'NonBinary', 'title': 'I’m having trouble identifying myself and I need some advice/articles/literature on the topic.', 'created': 1614227806.0}),\n",
       " submission(created_utc=1614198819, id='lrmqmp', num_comments=0, score=0, subreddit='NonBinary', title='Combining/confusing gender and sexuality - advice/help?', created=1614227619.0, d_={'created_utc': 1614198819, 'id': 'lrmqmp', 'num_comments': 0, 'score': 0, 'subreddit': 'NonBinary', 'title': 'Combining/confusing gender and sexuality - advice/help?', 'created': 1614227619.0}),\n",
       " submission(created_utc=1614196645, id='lrlvfr', num_comments=5, score=34, subreddit='NonBinary', title='How about this ?', created=1614225445.0, d_={'created_utc': 1614196645, 'id': 'lrlvfr', 'num_comments': 5, 'score': 34, 'subreddit': 'NonBinary', 'title': 'How about this ?', 'created': 1614225445.0}),\n",
       " submission(created_utc=1614196354, id='lrlr9z', num_comments=7, score=44, subreddit='NonBinary', title='My style today for an interview', created=1614225154.0, d_={'created_utc': 1614196354, 'id': 'lrlr9z', 'num_comments': 7, 'score': 44, 'subreddit': 'NonBinary', 'title': 'My style today for an interview', 'created': 1614225154.0}),\n",
       " submission(created_utc=1614196324, id='lrlqsb', num_comments=1, score=1, subreddit='NonBinary', title='is wanting to be nonbinary all it takes to be nonbinary?', created=1614225124.0, d_={'created_utc': 1614196324, 'id': 'lrlqsb', 'num_comments': 1, 'score': 1, 'subreddit': 'NonBinary', 'title': 'is wanting to be nonbinary all it takes to be nonbinary?', 'created': 1614225124.0}),\n",
       " submission(created_utc=1614196146, id='lrloaq', num_comments=0, score=3, subreddit='NonBinary', title='Zendaya Corrects Gendered Question About the Qualities She Looks for in a Man', created=1614224946.0, d_={'created_utc': 1614196146, 'id': 'lrloaq', 'num_comments': 0, 'score': 3, 'subreddit': 'NonBinary', 'title': 'Zendaya Corrects Gendered Question About the Qualities She Looks for in a Man', 'created': 1614224946.0})]"
      ]
     },
     "metadata": {},
     "execution_count": 20
    }
   ],
   "source": [
    "import datetime as dt\n",
    "\n",
    "start_epoch=int(dt.datetime(2021, 2, 18).timestamp())\n",
    "end_epoch = int(dt.datetime(2021, 2, 21).timestamp())\n",
    "subreddit = 'NonBinary'\n",
    "results = list(api.search_submissions(after=start_epoch,\n",
    "                            subreddit=subreddit,\n",
    "                            filter=['id', 'title', 'subreddit', 'num_comments', 'score'],\n",
    "                            limit=10))"
   ]
  },
  {
   "cell_type": "code",
   "execution_count": 21,
   "metadata": {},
   "outputs": [],
   "source": [
    "import pandas as pd\n",
    "\n",
    "title_results = pd.DataFrame([thing.title for thing in results])\n",
    "\n",
    "submission_results_df = pd.DataFrame(title_results)\n",
    "fileName = subreddit + str(start_epoch) + \".csv\"\n",
    "submission_results_df.to_csv(fileName.format(start_epoch, end_epoch))"
   ]
  },
  {
   "cell_type": "code",
   "execution_count": null,
   "metadata": {},
   "outputs": [],
   "source": []
  }
 ],
 "metadata": {
  "kernelspec": {
   "name": "python3",
   "display_name": "Python 3",
   "language": "python"
  }
 },
 "nbformat": 4,
 "nbformat_minor": 4
}