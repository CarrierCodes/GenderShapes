{
 "cells": [
  {
   "cell_type": "code",
   "execution_count": 101,
   "metadata": {},
   "outputs": [],
   "source": [
    "import praw\n",
    "from psaw import PushshiftAPI\n",
    "import datetime as dt\n",
    "import pandas as pd\n",
    "\n",
    "api = PushshiftAPI()"
   ]
  },
  {
   "cell_type": "code",
   "execution_count": 102,
   "metadata": {},
   "outputs": [],
   "source": [
    "\n",
    "start_epoch = int(dt.datetime(2020, 12, 30).timestamp())\n",
    "end_epoch = int(dt.datetime(2021, 1, 3).timestamp())\n",
    "subreddit = 'trans'\n",
    "filterList = [\n",
    "    'id',\n",
    "    'title',\n",
    "    'selftext',\n",
    "    'subreddit',\n",
    "    'num_comments',\n",
    "    'score'\n",
    "]\n",
    "\n",
    "results = list(api.search_submissions(after=start_epoch,\n",
    "                            before=end_epoch,\n",
    "                            subreddit=subreddit,\n",
    "                            filter=filterList,\n",
    "                            sort='asc'))"
   ]
  },
  {
   "cell_type": "code",
   "execution_count": 104,
   "metadata": {},
   "outputs": [],
   "source": [
    "\n",
    "results_df = pd.DataFrame(results)\n",
    "columnNames = results_df.columns\n",
    "\n",
    "results_df['created_utc'] = pd.to_datetime(results_df['created_utc'], origin='unix', unit='s')\n",
    "\n",
    "result_by_month_df = results_df.groupby(pd.Grouper(key='created_utc',freq='M'))\n",
    "\n"
   ]
  },
  {
   "cell_type": "code",
   "execution_count": 105,
   "metadata": {},
   "outputs": [],
   "source": [
    "# save final output to file\n",
    "\n",
    "def printBuckets(bucketList, fileNamePostfix):\n",
    "    bucket_num = 1\n",
    "    for created_utc, bucket in bucketList:\n",
    "        fileName = \"data/\" + subreddit + \"/\" + fileNamePostfix + str(bucket_num) + \".csv\"\n",
    "        bucket.to_csv(fileName, index=False)\n",
    "        bucket_num += 1\n",
    "\n",
    "printBuckets(result_by_month_df, \"month\")"
   ]
  },
  {
   "cell_type": "code",
   "execution_count": 117,
   "metadata": {},
   "outputs": [
    {
     "output_type": "stream",
     "name": "stdout",
     "text": [
      "[{'Surprise': 82.47000000000001, 'Happy': 71.39999999999999, 'Fear': 65.80999999999997, 'Sad': 57.6, 'Angry': 10.560000000000002}, {'Surprise': 132.86000000000004, 'Happy': 133.73000000000008, 'Fear': 118.29, 'Sad': 96.47999999999999, 'Angry': 40.26999999999999}]\n"
     ]
    }
   ],
   "source": [
    "# now we do some sentiment analysis on each bucket\n",
    "import text2emotion as te\n",
    "import operator\n",
    "\n",
    "def combine_dicts(dict1, dict2):\n",
    "    return {key: dict1.get(key, 0) + dict2.get(key, 0)\n",
    "          for key in set(dict1) | set(dict2)}\n",
    "\n",
    "\n",
    "bucket_sums = []\n",
    "for reated_utc, bucket in result_by_month_df:\n",
    "    bucket_sum = {'Angry': 0.0, 'Fear': 0.0, 'Happy': 0.0, 'Sad': 0.0, 'Surprise': 0.0}\n",
    "    N = len(bucket)\n",
    "\n",
    "    for index, entry in bucket.iterrows():\n",
    "        emotion_tuple = te.get_emotion(str(entry.title) + \" \" + str(entry.selftext))\n",
    "        if (sum(emotion_tuple.values()) > 0):\n",
    "            # scale each tuple by the post score\n",
    "            emotion_tuple.update({n: entry.score * emotion_tuple[n] for n in emotion_tuple.keys()})\n",
    "            bucket_sum = combine_dicts(bucket_sum, emotion_tuple )\n",
    "\n",
    "    bucket_sums.append(bucket_sum)\n",
    "\n",
    "print(bucket_sums)"
   ]
  },
  {
   "cell_type": "code",
   "execution_count": 118,
   "metadata": {},
   "outputs": [],
   "source": [
    "# convert dictionary list to csv\n",
    "emotion_df = pd.DataFrame(bucket_sums)\n",
    "normalized_emotion_df = emotion_df.div(emotion_df.sum(axis=1), axis=0)\n",
    "normalized_emotion_df.to_csv(\"emotionAvgsOut.csv\")"
   ]
  },
  {
   "cell_type": "code",
   "execution_count": null,
   "metadata": {},
   "outputs": [],
   "source": []
  }
 ],
 "metadata": {
  "kernelspec": {
   "name": "python3",
   "display_name": "Python 3",
   "language": "python"
  }
 },
 "nbformat": 4,
 "nbformat_minor": 4
}